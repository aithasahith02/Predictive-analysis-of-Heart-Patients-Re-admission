{
 "cells": [
  {
   "cell_type": "code",
   "execution_count": null,
   "id": "ad163d78-dea2-4627-9a3a-09234b73e91a",
   "metadata": {},
   "outputs": [],
   "source": [
    "#Python Code to load MIMIC data from a local PostgresSQL database to a pandas dataframe\n",
    "\n",
    "import pandas as pd\n",
    "import psycopg2\n",
    "\n",
    "#Establish connection to PostgreSQL\n",
    "conn = psycopg2.connect(\n",
    "    dbname=\"mimic\",\n",
    "    user=\"postgres\",\n",
    "    password=\"sql\",\n",
    "    host=\"localhost\",\n",
    "    port=\"5432\"\n",
    ")\n",
    "\n",
    "#Create a cursor object using the connection\n",
    "cur = conn.cursor()\n",
    "#Setting the Schema\n",
    "cur.execute(\"SET search_path TO mimiciii;\")\n",
    "conn.commit()\n",
    "\n",
    "#Query\n",
    "query = \"SELECT dbsource from icustays limit 10;\"\n",
    "\n",
    "cur.execute(query)\n",
    "rows = cur.fetchall()\n",
    "df = pd.DataFrame(rows, columns=['dbsource'])\n",
    "print(df)\n"
   ]
  },
  {
   "cell_type": "code",
   "execution_count": null,
   "id": "be8ccf24-3564-437e-bed3-124df40955ea",
   "metadata": {},
   "outputs": [],
   "source": [
    "#Query to create table containing the re-admissions of heart patients.\n",
    "query = ''' CREATE TABLE heart_patients_icu_readmissions AS\n",
    "SELECT \n",
    "    icu1.SUBJECT_ID, \n",
    "    icu1.HADM_ID, \n",
    "    icu1.ICUSTAY_ID AS first_ICU_stay, \n",
    "    icu2.ICUSTAY_ID AS second_ICU_stay, \n",
    "    icu2.INTIME AS second_ICU_admit_time, \n",
    "    icu1.OUTTIME AS first_ICU_discharge_time,\n",
    "    CASE \n",
    "        WHEN icu2.INTIME IS NOT NULL AND icu2.INTIME <= icu1.OUTTIME + INTERVAL '15 days' THEN 1 \n",
    "        ELSE 0\n",
    "    END AS ICU_readmission,\n",
    "    icu2.INTIME AS readmission_time\n",
    "FROM \n",
    "    (SELECT DISTINCT adm.SUBJECT_ID, adm.HADM_ID\n",
    "     FROM ADMISSIONS adm\n",
    "     JOIN DIAGNOSES_ICD diag ON adm.HADM_ID = diag.HADM_ID\n",
    "     WHERE diag.ICD9_CODE IN ('4280', '4281', '42820', '42821', '42822', '42823', '42830', '42831', '42832', '42833', '42840', '42841', '42842', '42843', '4289')) AS heart_patients\n",
    "JOIN \n",
    "    ICUSTAYS icu1 ON heart_patients.HADM_ID = icu1.HADM_ID\n",
    "LEFT JOIN \n",
    "    ICUSTAYS icu2 ON icu1.SUBJECT_ID = icu2.SUBJECT_ID\n",
    "                  AND icu1.HADM_ID = icu2.HADM_ID\n",
    "                  AND icu2.INTIME > icu1.OUTTIME\n",
    "ORDER BY \n",
    "    icu1.SUBJECT_ID, icu1.ICUSTAY_ID, icu2.INTIME;\n",
    "\n",
    "'''"
   ]
  },
  {
   "cell_type": "code",
   "execution_count": null,
   "id": "9cb8180e-70c3-480b-b4ec-71a7bf6b8fdb",
   "metadata": {},
   "outputs": [],
   "source": [
    "cur.execute(query)\n",
    "rows = cur.fetchall()\n",
    "df = pd.DataFrame(rows, columns=['dbsource'])\n",
    "print(df)\n"
   ]
  },
  {
   "cell_type": "code",
   "execution_count": null,
   "id": "157c28a1-109f-4ae4-a252-28ab99ee8a05",
   "metadata": {},
   "outputs": [],
   "source": [
    "\n",
    "#Close all the connections\n",
    "cur.close()\n",
    "conn.close()"
   ]
  }
 ],
 "metadata": {
  "kernelspec": {
   "display_name": "Python 3 (ipykernel)",
   "language": "python",
   "name": "python3"
  },
  "language_info": {
   "codemirror_mode": {
    "name": "ipython",
    "version": 3
   },
   "file_extension": ".py",
   "mimetype": "text/x-python",
   "name": "python",
   "nbconvert_exporter": "python",
   "pygments_lexer": "ipython3",
   "version": "3.11.7"
  }
 },
 "nbformat": 4,
 "nbformat_minor": 5
}
